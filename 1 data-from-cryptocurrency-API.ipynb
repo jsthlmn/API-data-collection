{
 "cells": [
  {
   "attachments": {},
   "cell_type": "markdown",
   "metadata": {},
   "source": [
    "In this notebook, we will be using the https://www.coingecko.com/en/api?utm_medium=Exinfluencer&utm_source=Exinfluencer&utm_content=000026UJ&utm_term=10006555&utm_id=NA-SkillsNetwork-Channel-SkillsNetworkCoursesIBMDeveloperSkillsNetworkPY0101ENSkillsNetwork1005-2022-01-01%3ECoinGecko API to create one of these candlestick graphs for Bitcoin. We will use the API to get the price data for 30 days with 24 observation per day, 1 per hour. We will find the max, min, open, and close price per day meaning we will have 30 candlesticks and use that to generate the candlestick graph. Although we are using the CoinGecko API we will use a Python client/wrapper for the API called PyCoinGecko. PyCoinGecko will make performing the requests easy and it will deal with the enpoint targeting."
   ]
  },
  {
   "cell_type": "code",
   "execution_count": 1,
   "metadata": {},
   "outputs": [
    {
     "name": "stdout",
     "output_type": "stream",
     "text": [
      "Collecting pycoingecko\n",
      "  Downloading pycoingecko-3.1.0-py3-none-any.whl (8.8 kB)\n",
      "Collecting requests\n",
      "  Downloading requests-2.28.2-py3-none-any.whl (62 kB)\n",
      "     ---------------------------------------- 0.0/62.8 kB ? eta -:--:--\n",
      "     ---------------------------------------- 62.8/62.8 kB 1.6 MB/s eta 0:00:00\n",
      "Collecting urllib3<1.27,>=1.21.1\n",
      "  Downloading urllib3-1.26.15-py2.py3-none-any.whl (140 kB)\n",
      "     ---------------------------------------- 0.0/140.9 kB ? eta -:--:--\n",
      "     ------------------------------ ------- 112.6/140.9 kB 2.2 MB/s eta 0:00:01\n",
      "     -------------------------------------- 140.9/140.9 kB 1.7 MB/s eta 0:00:00\n",
      "Collecting certifi>=2017.4.17\n",
      "  Downloading certifi-2022.12.7-py3-none-any.whl (155 kB)\n",
      "     ---------------------------------------- 0.0/155.3 kB ? eta -:--:--\n",
      "     -------------------------------------  153.6/155.3 kB 9.0 MB/s eta 0:00:01\n",
      "     -------------------------------------- 155.3/155.3 kB 3.1 MB/s eta 0:00:00\n",
      "Requirement already satisfied: idna<4,>=2.5 in c:\\users\\ciwar\\appdata\\roaming\\python\\python310\\site-packages (from requests->pycoingecko) (3.4)\n",
      "Collecting charset-normalizer<4,>=2\n",
      "  Downloading charset_normalizer-3.1.0-cp310-cp310-win_amd64.whl (97 kB)\n",
      "     ---------------------------------------- 0.0/97.1 kB ? eta -:--:--\n",
      "     ---------------------------------------- 97.1/97.1 kB 2.8 MB/s eta 0:00:00\n",
      "Installing collected packages: urllib3, charset-normalizer, certifi, requests, pycoingecko\n",
      "Successfully installed certifi-2022.12.7 charset-normalizer-3.1.0 pycoingecko-3.1.0 requests-2.28.2 urllib3-1.26.15\n",
      "Collecting plotly\n",
      "  Downloading plotly-5.13.1-py2.py3-none-any.whl (15.2 MB)\n",
      "     ---------------------------------------- 0.0/15.2 MB ? eta -:--:--\n",
      "     ---------------------------------------- 0.2/15.2 MB 3.1 MB/s eta 0:00:05\n",
      "     - -------------------------------------- 0.4/15.2 MB 3.5 MB/s eta 0:00:05\n",
      "     - -------------------------------------- 0.7/15.2 MB 4.5 MB/s eta 0:00:04\n",
      "     -- ------------------------------------- 1.0/15.2 MB 4.9 MB/s eta 0:00:03\n",
      "     --- ------------------------------------ 1.3/15.2 MB 5.2 MB/s eta 0:00:03\n",
      "     ---- ----------------------------------- 1.6/15.2 MB 5.4 MB/s eta 0:00:03\n",
      "     ----- ---------------------------------- 1.9/15.2 MB 5.8 MB/s eta 0:00:03\n",
      "     ----- ---------------------------------- 2.2/15.2 MB 5.7 MB/s eta 0:00:03\n",
      "     ------ --------------------------------- 2.6/15.2 MB 5.8 MB/s eta 0:00:03\n",
      "     ------- -------------------------------- 2.8/15.2 MB 5.8 MB/s eta 0:00:03\n",
      "     -------- ------------------------------- 3.2/15.2 MB 5.9 MB/s eta 0:00:03\n",
      "     --------- ------------------------------ 3.5/15.2 MB 6.0 MB/s eta 0:00:02\n",
      "     --------- ------------------------------ 3.8/15.2 MB 6.2 MB/s eta 0:00:02\n",
      "     ---------- ----------------------------- 4.1/15.2 MB 6.1 MB/s eta 0:00:02\n",
      "     ----------- ---------------------------- 4.4/15.2 MB 6.2 MB/s eta 0:00:02\n",
      "     ------------ --------------------------- 4.8/15.2 MB 6.2 MB/s eta 0:00:02\n",
      "     ------------- -------------------------- 5.0/15.2 MB 6.2 MB/s eta 0:00:02\n",
      "     -------------- ------------------------- 5.4/15.2 MB 6.2 MB/s eta 0:00:02\n",
      "     -------------- ------------------------- 5.7/15.2 MB 6.3 MB/s eta 0:00:02\n",
      "     --------------- ------------------------ 6.0/15.2 MB 6.3 MB/s eta 0:00:02\n",
      "     ---------------- ----------------------- 6.3/15.2 MB 6.3 MB/s eta 0:00:02\n",
      "     ----------------- ---------------------- 6.6/15.2 MB 6.4 MB/s eta 0:00:02\n",
      "     ------------------ --------------------- 6.9/15.2 MB 6.4 MB/s eta 0:00:02\n",
      "     ------------------ --------------------- 7.2/15.2 MB 6.3 MB/s eta 0:00:02\n",
      "     ------------------- -------------------- 7.5/15.2 MB 6.4 MB/s eta 0:00:02\n",
      "     -------------------- ------------------- 7.8/15.2 MB 6.4 MB/s eta 0:00:02\n",
      "     --------------------- ------------------ 8.1/15.2 MB 6.4 MB/s eta 0:00:02\n",
      "     ---------------------- ----------------- 8.5/15.2 MB 6.4 MB/s eta 0:00:02\n",
      "     ---------------------- ----------------- 8.7/15.2 MB 6.4 MB/s eta 0:00:02\n",
      "     ----------------------- ---------------- 9.0/15.2 MB 6.4 MB/s eta 0:00:01\n",
      "     ------------------------ --------------- 9.3/15.2 MB 6.4 MB/s eta 0:00:01\n",
      "     ------------------------- -------------- 9.6/15.2 MB 6.4 MB/s eta 0:00:01\n",
      "     -------------------------- ------------- 9.9/15.2 MB 6.4 MB/s eta 0:00:01\n",
      "     -------------------------- ------------- 10.2/15.2 MB 6.4 MB/s eta 0:00:01\n",
      "     --------------------------- ------------ 10.3/15.2 MB 6.5 MB/s eta 0:00:01\n",
      "     --------------------------- ------------ 10.3/15.2 MB 6.5 MB/s eta 0:00:01\n",
      "     --------------------------- ------------ 10.3/15.2 MB 6.5 MB/s eta 0:00:01\n",
      "     --------------------------- ------------ 10.3/15.2 MB 6.5 MB/s eta 0:00:01\n",
      "     ---------------------------- ----------- 10.7/15.2 MB 6.0 MB/s eta 0:00:01\n",
      "     ----------------------------- ---------- 11.2/15.2 MB 6.0 MB/s eta 0:00:01\n",
      "     ------------------------------ --------- 11.5/15.2 MB 6.1 MB/s eta 0:00:01\n",
      "     ------------------------------- -------- 11.9/15.2 MB 6.1 MB/s eta 0:00:01\n",
      "     ------------------------------- -------- 12.1/15.2 MB 6.1 MB/s eta 0:00:01\n",
      "     ------------------------------- -------- 12.1/15.2 MB 6.1 MB/s eta 0:00:01\n",
      "     ------------------------------- -------- 12.2/15.2 MB 5.8 MB/s eta 0:00:01\n",
      "     --------------------------------- ------ 12.7/15.2 MB 5.9 MB/s eta 0:00:01\n",
      "     --------------------------------- ------ 12.9/15.2 MB 5.8 MB/s eta 0:00:01\n",
      "     ---------------------------------- ----- 13.3/15.2 MB 5.9 MB/s eta 0:00:01\n",
      "     ------------------------------------ --- 13.9/15.2 MB 6.0 MB/s eta 0:00:01\n",
      "     ------------------------------------- -- 14.2/15.2 MB 6.0 MB/s eta 0:00:01\n",
      "     ------------------------------------- -- 14.5/15.2 MB 6.0 MB/s eta 0:00:01\n",
      "     -------------------------------------- - 14.7/15.2 MB 6.0 MB/s eta 0:00:01\n",
      "     ---------------------------------------  15.0/15.2 MB 6.0 MB/s eta 0:00:01\n",
      "     ---------------------------------------  15.2/15.2 MB 6.0 MB/s eta 0:00:01\n",
      "     ---------------------------------------  15.2/15.2 MB 6.0 MB/s eta 0:00:01\n",
      "     ---------------------------------------  15.2/15.2 MB 6.0 MB/s eta 0:00:01\n",
      "     ---------------------------------------  15.2/15.2 MB 6.0 MB/s eta 0:00:01\n",
      "     ---------------------------------------- 15.2/15.2 MB 5.3 MB/s eta 0:00:00\n",
      "Collecting tenacity>=6.2.0\n",
      "  Downloading tenacity-8.2.2-py3-none-any.whl (24 kB)\n",
      "Installing collected packages: tenacity, plotly\n",
      "Successfully installed plotly-5.13.1 tenacity-8.2.2\n",
      "Collecting mplfinance\n",
      "  Downloading mplfinance-0.12.9b7-py3-none-any.whl (73 kB)\n",
      "     ---------------------------------------- 0.0/73.1 kB ? eta -:--:--\n",
      "     ---------------------------------------- 73.1/73.1 kB 2.0 MB/s eta 0:00:00\n",
      "Requirement already satisfied: pandas in c:\\users\\ciwar\\appdata\\local\\programs\\python\\python310\\lib\\site-packages (from mplfinance) (1.5.3)\n",
      "Collecting matplotlib\n",
      "  Downloading matplotlib-3.7.1-cp310-cp310-win_amd64.whl (7.6 MB)\n",
      "     ---------------------------------------- 0.0/7.6 MB ? eta -:--:--\n",
      "     - -------------------------------------- 0.2/7.6 MB 6.1 MB/s eta 0:00:02\n",
      "     - -------------------------------------- 0.3/7.6 MB 3.5 MB/s eta 0:00:03\n",
      "     - -------------------------------------- 0.3/7.6 MB 2.3 MB/s eta 0:00:04\n",
      "     - -------------------------------------- 0.4/7.6 MB 2.0 MB/s eta 0:00:04\n",
      "     - -------------------------------------- 0.4/7.6 MB 1.5 MB/s eta 0:00:05\n",
      "     -- ------------------------------------- 0.4/7.6 MB 1.4 MB/s eta 0:00:06\n",
      "     -- ------------------------------------- 0.4/7.6 MB 1.4 MB/s eta 0:00:05\n",
      "     -- ------------------------------------- 0.5/7.6 MB 1.3 MB/s eta 0:00:06\n",
      "     -- ------------------------------------- 0.5/7.6 MB 1.3 MB/s eta 0:00:06\n",
      "     -- ------------------------------------- 0.5/7.6 MB 1.0 MB/s eta 0:00:07\n",
      "     -- ------------------------------------- 0.6/7.6 MB 1.1 MB/s eta 0:00:07\n",
      "     --- ------------------------------------ 0.6/7.6 MB 1.0 MB/s eta 0:00:07\n",
      "     --- ------------------------------------ 0.6/7.6 MB 1.0 MB/s eta 0:00:07\n",
      "     --- ------------------------------------ 0.7/7.6 MB 1.0 MB/s eta 0:00:07\n",
      "     --- ------------------------------------ 0.7/7.6 MB 1.0 MB/s eta 0:00:07\n",
      "     --- ------------------------------------ 0.7/7.6 MB 1.0 MB/s eta 0:00:07\n",
      "     --- ------------------------------------ 0.7/7.6 MB 1.0 MB/s eta 0:00:07\n",
      "     --- ------------------------------------ 0.7/7.6 MB 1.0 MB/s eta 0:00:07\n",
      "     --- ------------------------------------ 0.7/7.6 MB 1.0 MB/s eta 0:00:07\n",
      "     --- ------------------------------------ 0.7/7.6 MB 767.7 kB/s eta 0:00:10\n",
      "     --- ------------------------------------ 0.7/7.6 MB 739.7 kB/s eta 0:00:10\n",
      "     --- ------------------------------------ 0.8/7.6 MB 747.5 kB/s eta 0:00:10\n",
      "     ---- ----------------------------------- 0.8/7.6 MB 732.1 kB/s eta 0:00:10\n",
      "     ---- ----------------------------------- 0.9/7.6 MB 764.6 kB/s eta 0:00:09\n",
      "     ---- ----------------------------------- 0.9/7.6 MB 777.6 kB/s eta 0:00:09\n",
      "     ---- ----------------------------------- 1.0/7.6 MB 793.0 kB/s eta 0:00:09\n",
      "     ---- ----------------------------------- 1.0/7.6 MB 793.0 kB/s eta 0:00:09\n",
      "     ----- ---------------------------------- 1.0/7.6 MB 734.2 kB/s eta 0:00:10\n",
      "     ----- ---------------------------------- 1.0/7.6 MB 734.2 kB/s eta 0:00:10\n",
      "     ----- ---------------------------------- 1.0/7.6 MB 734.2 kB/s eta 0:00:10\n",
      "     ----- ---------------------------------- 1.0/7.6 MB 734.2 kB/s eta 0:00:10\n",
      "     ----- ---------------------------------- 1.0/7.6 MB 734.2 kB/s eta 0:00:10\n",
      "     ----- ---------------------------------- 1.0/7.6 MB 734.2 kB/s eta 0:00:10\n",
      "     ----- ---------------------------------- 1.0/7.6 MB 734.2 kB/s eta 0:00:10\n",
      "     ----- ---------------------------------- 1.0/7.6 MB 734.2 kB/s eta 0:00:10\n",
      "     ----- ---------------------------------- 1.0/7.6 MB 734.2 kB/s eta 0:00:10\n",
      "     ----- ---------------------------------- 1.0/7.6 MB 734.2 kB/s eta 0:00:10\n",
      "     ----- ---------------------------------- 1.0/7.6 MB 545.9 kB/s eta 0:00:13\n",
      "     ----- ---------------------------------- 1.0/7.6 MB 547.9 kB/s eta 0:00:13\n",
      "     ------ --------------------------------- 1.1/7.6 MB 606.2 kB/s eta 0:00:11\n",
      "     ------- -------------------------------- 1.5/7.6 MB 761.9 kB/s eta 0:00:09\n",
      "     --------- ------------------------------ 1.8/7.6 MB 894.5 kB/s eta 0:00:07\n",
      "     ---------- ----------------------------- 2.1/7.6 MB 1.0 MB/s eta 0:00:06\n",
      "     ------------ --------------------------- 2.3/7.6 MB 1.1 MB/s eta 0:00:05\n",
      "     ------------ --------------------------- 2.5/7.6 MB 1.2 MB/s eta 0:00:05\n",
      "     ------------- -------------------------- 2.6/7.6 MB 1.2 MB/s eta 0:00:05\n",
      "     -------------- ------------------------- 2.7/7.6 MB 1.2 MB/s eta 0:00:04\n",
      "     -------------- ------------------------- 2.8/7.6 MB 1.2 MB/s eta 0:00:04\n",
      "     --------------- ------------------------ 2.9/7.6 MB 1.2 MB/s eta 0:00:04\n",
      "     --------------- ------------------------ 2.9/7.6 MB 1.3 MB/s eta 0:00:04\n",
      "     --------------- ------------------------ 3.0/7.6 MB 1.3 MB/s eta 0:00:04\n",
      "     --------------- ------------------------ 3.0/7.6 MB 1.3 MB/s eta 0:00:04\n",
      "     ---------------- ----------------------- 3.1/7.6 MB 1.2 MB/s eta 0:00:04\n",
      "     ----------------- ---------------------- 3.3/7.6 MB 1.3 MB/s eta 0:00:04\n",
      "     ------------------ --------------------- 3.5/7.6 MB 1.3 MB/s eta 0:00:04\n",
      "     ------------------- -------------------- 3.7/7.6 MB 1.4 MB/s eta 0:00:03\n",
      "     -------------------- ------------------- 4.0/7.6 MB 1.5 MB/s eta 0:00:03\n",
      "     ---------------------- ----------------- 4.2/7.6 MB 1.5 MB/s eta 0:00:03\n",
      "     ----------------------- ---------------- 4.4/7.6 MB 1.6 MB/s eta 0:00:02\n",
      "     ------------------------ --------------- 4.7/7.6 MB 1.7 MB/s eta 0:00:02\n",
      "     ------------------------- -------------- 4.9/7.6 MB 1.7 MB/s eta 0:00:02\n",
      "     -------------------------- ------------- 5.1/7.6 MB 1.8 MB/s eta 0:00:02\n",
      "     ---------------------------- ----------- 5.4/7.6 MB 1.8 MB/s eta 0:00:02\n",
      "     ----------------------------- ---------- 5.6/7.6 MB 1.9 MB/s eta 0:00:02\n",
      "     ------------------------------ --------- 5.8/7.6 MB 1.9 MB/s eta 0:00:01\n",
      "     ------------------------------- -------- 6.1/7.6 MB 2.0 MB/s eta 0:00:01\n",
      "     -------------------------------- ------- 6.2/7.6 MB 2.0 MB/s eta 0:00:01\n",
      "     ---------------------------------- ----- 6.5/7.6 MB 2.0 MB/s eta 0:00:01\n",
      "     ----------------------------------- ---- 6.8/7.6 MB 2.1 MB/s eta 0:00:01\n",
      "     ------------------------------------ --- 7.0/7.6 MB 2.1 MB/s eta 0:00:01\n",
      "     ------------------------------------- -- 7.2/7.6 MB 2.2 MB/s eta 0:00:01\n",
      "     ---------------------------------------  7.5/7.6 MB 2.2 MB/s eta 0:00:01\n",
      "     ---------------------------------------  7.6/7.6 MB 2.2 MB/s eta 0:00:01\n",
      "     ---------------------------------------  7.6/7.6 MB 2.2 MB/s eta 0:00:01\n",
      "     ---------------------------------------  7.6/7.6 MB 2.2 MB/s eta 0:00:01\n",
      "     ---------------------------------------  7.6/7.6 MB 2.2 MB/s eta 0:00:01\n",
      "     ---------------------------------------  7.6/7.6 MB 2.2 MB/s eta 0:00:01\n",
      "     ---------------------------------------- 7.6/7.6 MB 2.1 MB/s eta 0:00:00\n",
      "Collecting contourpy>=1.0.1\n",
      "  Downloading contourpy-1.0.7-cp310-cp310-win_amd64.whl (162 kB)\n",
      "     ---------------------------------------- 0.0/163.0 kB ? eta -:--:--\n",
      "     ----------------------------------- -- 153.6/163.0 kB 9.6 MB/s eta 0:00:01\n",
      "     -------------------------------------- 163.0/163.0 kB 2.5 MB/s eta 0:00:00\n",
      "Requirement already satisfied: packaging>=20.0 in c:\\users\\ciwar\\appdata\\roaming\\python\\python310\\site-packages (from matplotlib->mplfinance) (23.0)\n",
      "Collecting pillow>=6.2.0\n",
      "  Downloading Pillow-9.4.0-cp310-cp310-win_amd64.whl (2.5 MB)\n",
      "     ---------------------------------------- 0.0/2.5 MB ? eta -:--:--\n",
      "     ---- ----------------------------------- 0.3/2.5 MB 8.9 MB/s eta 0:00:01\n",
      "     -------- ------------------------------- 0.5/2.5 MB 6.7 MB/s eta 0:00:01\n",
      "     ------------- -------------------------- 0.8/2.5 MB 6.4 MB/s eta 0:00:01\n",
      "     ----------------- ---------------------- 1.1/2.5 MB 6.1 MB/s eta 0:00:01\n",
      "     --------------------- ------------------ 1.3/2.5 MB 6.0 MB/s eta 0:00:01\n",
      "     ------------------------- -------------- 1.6/2.5 MB 5.9 MB/s eta 0:00:01\n",
      "     ----------------------------- ---------- 1.8/2.5 MB 5.9 MB/s eta 0:00:01\n",
      "     --------------------------------- ------ 2.1/2.5 MB 5.8 MB/s eta 0:00:01\n",
      "     -------------------------------------- - 2.4/2.5 MB 5.8 MB/s eta 0:00:01\n",
      "     ---------------------------------------  2.5/2.5 MB 5.8 MB/s eta 0:00:01\n",
      "     ---------------------------------------  2.5/2.5 MB 5.8 MB/s eta 0:00:01\n",
      "     ---------------------------------------  2.5/2.5 MB 5.8 MB/s eta 0:00:01\n",
      "     ---------------------------------------- 2.5/2.5 MB 4.4 MB/s eta 0:00:00\n",
      "Requirement already satisfied: python-dateutil>=2.7 in c:\\users\\ciwar\\appdata\\roaming\\python\\python310\\site-packages (from matplotlib->mplfinance) (2.8.2)\n",
      "Requirement already satisfied: numpy>=1.20 in c:\\users\\ciwar\\appdata\\local\\programs\\python\\python310\\lib\\site-packages (from matplotlib->mplfinance) (1.24.2)\n",
      "Collecting pyparsing>=2.3.1\n",
      "  Downloading pyparsing-3.0.9-py3-none-any.whl (98 kB)\n",
      "     ---------------------------------------- 0.0/98.3 kB ? eta -:--:--\n",
      "     ------------------------------------- -- 92.2/98.3 kB ? eta -:--:--\n",
      "     ---------------------------------------- 98.3/98.3 kB 1.9 MB/s eta 0:00:00\n",
      "Collecting kiwisolver>=1.0.1\n",
      "  Downloading kiwisolver-1.4.4-cp310-cp310-win_amd64.whl (55 kB)\n",
      "     ---------------------------------------- 0.0/55.3 kB ? eta -:--:--\n",
      "     ------------------------------------- -- 51.2/55.3 kB ? eta -:--:--\n",
      "     ------------------------------------- -- 51.2/55.3 kB ? eta -:--:--\n",
      "     -------------------------------------- 55.3/55.3 kB 479.0 kB/s eta 0:00:00\n",
      "Collecting fonttools>=4.22.0\n",
      "  Downloading fonttools-4.39.2-py3-none-any.whl (1.0 MB)\n",
      "     ---------------------------------------- 0.0/1.0 MB ? eta -:--:--\n",
      "     ------------ --------------------------- 0.3/1.0 MB 10.2 MB/s eta 0:00:01\n",
      "     ------------------------- -------------- 0.7/1.0 MB 6.9 MB/s eta 0:00:01\n",
      "     -------------------------------------- - 1.0/1.0 MB 6.8 MB/s eta 0:00:01\n",
      "     ---------------------------------------  1.0/1.0 MB 7.1 MB/s eta 0:00:01\n",
      "     ---------------------------------------- 1.0/1.0 MB 4.9 MB/s eta 0:00:00\n",
      "Collecting cycler>=0.10\n",
      "  Downloading cycler-0.11.0-py3-none-any.whl (6.4 kB)\n",
      "Requirement already satisfied: pytz>=2020.1 in c:\\users\\ciwar\\appdata\\local\\programs\\python\\python310\\lib\\site-packages (from pandas->mplfinance) (2022.7.1)\n",
      "Requirement already satisfied: six>=1.5 in c:\\users\\ciwar\\appdata\\roaming\\python\\python310\\site-packages (from python-dateutil>=2.7->matplotlib->mplfinance) (1.16.0)\n",
      "Installing collected packages: pyparsing, pillow, kiwisolver, fonttools, cycler, contourpy, matplotlib, mplfinance\n",
      "Successfully installed contourpy-1.0.7 cycler-0.11.0 fonttools-4.39.2 kiwisolver-1.4.4 matplotlib-3.7.1 mplfinance-0.12.9b7 pillow-9.4.0 pyparsing-3.0.9\n",
      "Requirement already satisfied: nbformat in c:\\users\\ciwar\\appdata\\roaming\\python\\python310\\site-packages (5.8.0)\n",
      "Requirement already satisfied: jupyter-core in c:\\users\\ciwar\\appdata\\roaming\\python\\python310\\site-packages (from nbformat) (5.3.0)\n",
      "Requirement already satisfied: jsonschema>=2.6 in c:\\users\\ciwar\\appdata\\roaming\\python\\python310\\site-packages (from nbformat) (4.17.3)\n",
      "Requirement already satisfied: fastjsonschema in c:\\users\\ciwar\\appdata\\roaming\\python\\python310\\site-packages (from nbformat) (2.16.3)\n",
      "Requirement already satisfied: traitlets>=5.1 in c:\\users\\ciwar\\appdata\\roaming\\python\\python310\\site-packages (from nbformat) (5.9.0)\n",
      "Requirement already satisfied: pyrsistent!=0.17.0,!=0.17.1,!=0.17.2,>=0.14.0 in c:\\users\\ciwar\\appdata\\roaming\\python\\python310\\site-packages (from jsonschema>=2.6->nbformat) (0.19.3)\n",
      "Requirement already satisfied: attrs>=17.4.0 in c:\\users\\ciwar\\appdata\\roaming\\python\\python310\\site-packages (from jsonschema>=2.6->nbformat) (22.2.0)\n",
      "Requirement already satisfied: platformdirs>=2.5 in c:\\users\\ciwar\\appdata\\roaming\\python\\python310\\site-packages (from jupyter-core->nbformat) (3.1.1)\n",
      "Requirement already satisfied: pywin32>=300 in c:\\users\\ciwar\\appdata\\roaming\\python\\python310\\site-packages (from jupyter-core->nbformat) (305)\n"
     ]
    }
   ],
   "source": [
    "!pip install pycoingecko\n",
    "!pip install plotly\n",
    "!pip install mplfinance\n",
    "!pip install --upgrade nbformat"
   ]
  },
  {
   "attachments": {},
   "cell_type": "markdown",
   "metadata": {},
   "source": [
    "Import Library"
   ]
  },
  {
   "cell_type": "code",
   "execution_count": 2,
   "metadata": {},
   "outputs": [
    {
     "name": "stderr",
     "output_type": "stream",
     "text": [
      "Matplotlib is building the font cache; this may take a moment.\n"
     ]
    }
   ],
   "source": [
    "import pandas as pd\n",
    "import numpy as np\n",
    "import plotly.graph_objects as go\n",
    "from plotly.offline import plot\n",
    "import matplotlib.pyplot as plt\n",
    "import datetime\n",
    "from pycoingecko import CoinGeckoAPI\n",
    "from mplfinance.original_flavor import candlestick2_ohlc"
   ]
  },
  {
   "attachments": {},
   "cell_type": "markdown",
   "metadata": {},
   "source": [
    "Lets start off by getting the data we need. Using the get_coin_market_chart_by_id(id, vs_currency, days). id is the name of the coin you want, vs_currency is the currency you want the price in, and days is how many days back from today you want."
   ]
  },
  {
   "cell_type": "code",
   "execution_count": 3,
   "metadata": {},
   "outputs": [],
   "source": [
    "cg = CoinGeckoAPI()\n",
    "\n",
    "bitcoin_data = cg.get_coin_market_chart_by_id(id='bitcoin', vs_currency='usd', days=30)"
   ]
  },
  {
   "cell_type": "code",
   "execution_count": 4,
   "metadata": {},
   "outputs": [
    {
     "data": {
      "text/plain": [
       "dict"
      ]
     },
     "execution_count": 4,
     "metadata": {},
     "output_type": "execute_result"
    }
   ],
   "source": [
    "type(bitcoin_data)"
   ]
  },
  {
   "attachments": {},
   "cell_type": "markdown",
   "metadata": {},
   "source": [
    "The response we get is in the form of a JSON which includes the price, market caps, and total volumes along with timestamps for each observation. We are focused on the prices so we will select that data."
   ]
  },
  {
   "cell_type": "code",
   "execution_count": 7,
   "metadata": {},
   "outputs": [
    {
     "data": {
      "text/plain": [
       "[[1677078112068, 24005.60066033856],\n",
       " [1677081625913, 23738.790027126597],\n",
       " [1677085365463, 23688.237675512464],\n",
       " [1677088919708, 23736.359875852024],\n",
       " [1677092430908, 23808.36149127166]]"
      ]
     },
     "execution_count": 7,
     "metadata": {},
     "output_type": "execute_result"
    }
   ],
   "source": [
    "bitcoin_price_data = bitcoin_data['prices']\n",
    "bitcoin_price_data[0:5]"
   ]
  },
  {
   "attachments": {},
   "cell_type": "markdown",
   "metadata": {},
   "source": [
    "Lets turn this data into a Pandas DataFrame."
   ]
  },
  {
   "cell_type": "code",
   "execution_count": 8,
   "metadata": {},
   "outputs": [],
   "source": [
    "data = pd.DataFrame(bitcoin_price_data, columns=['Timestamp', 'Price'])"
   ]
  },
  {
   "attachments": {},
   "cell_type": "markdown",
   "metadata": {},
   "source": [
    "Now that we have the DataFrame we will convert the timestamp to datetime and save it as a column called Date. We will map our unix_to_datetime to each timestamp and convert it to a readable datetime."
   ]
  },
  {
   "cell_type": "code",
   "execution_count": 9,
   "metadata": {},
   "outputs": [],
   "source": [
    "data['date'] = data['Timestamp'].apply(lambda d: datetime.date.fromtimestamp(d/1000.0))"
   ]
  },
  {
   "attachments": {},
   "cell_type": "markdown",
   "metadata": {},
   "source": [
    "Using this modified dataset we can now group by the Date and find the min, max, open, and close for the candlesticks."
   ]
  },
  {
   "cell_type": "code",
   "execution_count": 10,
   "metadata": {},
   "outputs": [],
   "source": [
    "candlestick_data = data.groupby(data.date, as_index=False).agg({\"Price\": ['min', 'max', 'first', 'last']})"
   ]
  },
  {
   "attachments": {},
   "cell_type": "markdown",
   "metadata": {},
   "source": [
    "Finally we are now ready to use plotly to create our Candlestick Chart."
   ]
  },
  {
   "cell_type": "code",
   "execution_count": 11,
   "metadata": {},
   "outputs": [
    {
     "data": {
      "application/vnd.plotly.v1+json": {
       "config": {
        "plotlyServerURL": "https://plot.ly"
       },
       "data": [
        {
         "close": [
          23738.790027126597,
          23974.33557167891,
          23429.120219028155,
          23003.381147184693,
          23223.531035052576,
          23751.800585392026,
          23525.715578857256,
          23726.2506975257,
          23330.35049835348,
          22357.601228312662,
          22335.296596622255,
          22476.240200045482,
          22548.56002224413,
          22331.018759965096,
          22145.99908374674,
          21657.259968088314,
          20017.56126117087,
          20109.695014321405,
          20380.899515488803,
          24164.913413085374,
          25959.192986843434,
          24625.39873889541,
          25063.232466334084,
          26561.1575833419,
          27413.219280424782,
          27759.282331716247,
          28034.128021544704,
          28266.696872468296,
          28783.513771568014,
          28758.095490583008,
          28131.98922711189
         ],
         "high": [
          24005.60066033856,
          24631.74748429756,
          24021.954249024628,
          23252.486927252023,
          23271.622484390497,
          23757.151327369662,
          23525.715578857256,
          23829.946743900706,
          23712.71782096267,
          23539.61281971209,
          22417.00489088355,
          22609.50968265507,
          22548.56002224413,
          22536.241866918812,
          22327.793618615127,
          22153.288348301492,
          21476.6211959799,
          20641.53384712589,
          20521.55615175117,
          24164.913413085374,
          25959.192986843434,
          25939.679079465554,
          25115.52971766906,
          27084.76471501015,
          27804.542131689355,
          27759.282331716247,
          28500.164499808237,
          28432.31958863622,
          28783.513771568014,
          28792.012531509805,
          28658.66907799722
         ],
         "low": [
          23738.790027126597,
          23688.237675512464,
          23429.120219028155,
          22967.064972271433,
          22932.89635749938,
          23189.27520664493,
          23217.499188246024,
          23063.29381745662,
          23302.64712467313,
          22259.675591254836,
          22307.671979178518,
          22203.57313487645,
          22362.00823955405,
          22331.018759965096,
          21953.980294081073,
          21640.36177784387,
          19662.44149159682,
          19873.05651922205,
          20099.601274125893,
          20588.4348291509,
          24106.255524097673,
          24625.39873889541,
          24312.453878643257,
          24851.30235343408,
          26566.709959555843,
          27122.66773886824,
          27465.206770213725,
          27743.731861826895,
          28152.771010465058,
          26980.196144904265,
          28005.124536558167
         ],
         "open": [
          24005.60066033856,
          23688.237675512464,
          23849.99341752732,
          23200.238165620314,
          22998.513037723496,
          23189.27520664493,
          23438.38764054244,
          23455.08412921352,
          23665.59155956524,
          23283.76528293185,
          22362.95667643471,
          22339.448877842322,
          22441.430518504727,
          22529.992641588986,
          22245.6038174552,
          22153.288348301492,
          21467.29006662448,
          20015.74975034846,
          20099.601274125893,
          20588.4348291509,
          24106.255524097673,
          25939.679079465554,
          24312.453878643257,
          24952.901944704994,
          26566.709959555843,
          27356.739376378075,
          28141.506879232136,
          27881.292218666982,
          28617.570560839817,
          28792.012531509805,
          28658.66907799722
         ],
         "type": "candlestick",
         "x": [
          "2023-02-22",
          "2023-02-23",
          "2023-02-24",
          "2023-02-25",
          "2023-02-26",
          "2023-02-27",
          "2023-02-28",
          "2023-03-01",
          "2023-03-02",
          "2023-03-03",
          "2023-03-04",
          "2023-03-05",
          "2023-03-06",
          "2023-03-07",
          "2023-03-08",
          "2023-03-09",
          "2023-03-10",
          "2023-03-11",
          "2023-03-12",
          "2023-03-13",
          "2023-03-14",
          "2023-03-15",
          "2023-03-16",
          "2023-03-17",
          "2023-03-18",
          "2023-03-19",
          "2023-03-20",
          "2023-03-21",
          "2023-03-22",
          "2023-03-23",
          "2023-03-24"
         ]
        }
       ],
       "layout": {
        "template": {
         "data": {
          "bar": [
           {
            "error_x": {
             "color": "#2a3f5f"
            },
            "error_y": {
             "color": "#2a3f5f"
            },
            "marker": {
             "line": {
              "color": "#E5ECF6",
              "width": 0.5
             },
             "pattern": {
              "fillmode": "overlay",
              "size": 10,
              "solidity": 0.2
             }
            },
            "type": "bar"
           }
          ],
          "barpolar": [
           {
            "marker": {
             "line": {
              "color": "#E5ECF6",
              "width": 0.5
             },
             "pattern": {
              "fillmode": "overlay",
              "size": 10,
              "solidity": 0.2
             }
            },
            "type": "barpolar"
           }
          ],
          "carpet": [
           {
            "aaxis": {
             "endlinecolor": "#2a3f5f",
             "gridcolor": "white",
             "linecolor": "white",
             "minorgridcolor": "white",
             "startlinecolor": "#2a3f5f"
            },
            "baxis": {
             "endlinecolor": "#2a3f5f",
             "gridcolor": "white",
             "linecolor": "white",
             "minorgridcolor": "white",
             "startlinecolor": "#2a3f5f"
            },
            "type": "carpet"
           }
          ],
          "choropleth": [
           {
            "colorbar": {
             "outlinewidth": 0,
             "ticks": ""
            },
            "type": "choropleth"
           }
          ],
          "contour": [
           {
            "colorbar": {
             "outlinewidth": 0,
             "ticks": ""
            },
            "colorscale": [
             [
              0,
              "#0d0887"
             ],
             [
              0.1111111111111111,
              "#46039f"
             ],
             [
              0.2222222222222222,
              "#7201a8"
             ],
             [
              0.3333333333333333,
              "#9c179e"
             ],
             [
              0.4444444444444444,
              "#bd3786"
             ],
             [
              0.5555555555555556,
              "#d8576b"
             ],
             [
              0.6666666666666666,
              "#ed7953"
             ],
             [
              0.7777777777777778,
              "#fb9f3a"
             ],
             [
              0.8888888888888888,
              "#fdca26"
             ],
             [
              1,
              "#f0f921"
             ]
            ],
            "type": "contour"
           }
          ],
          "contourcarpet": [
           {
            "colorbar": {
             "outlinewidth": 0,
             "ticks": ""
            },
            "type": "contourcarpet"
           }
          ],
          "heatmap": [
           {
            "colorbar": {
             "outlinewidth": 0,
             "ticks": ""
            },
            "colorscale": [
             [
              0,
              "#0d0887"
             ],
             [
              0.1111111111111111,
              "#46039f"
             ],
             [
              0.2222222222222222,
              "#7201a8"
             ],
             [
              0.3333333333333333,
              "#9c179e"
             ],
             [
              0.4444444444444444,
              "#bd3786"
             ],
             [
              0.5555555555555556,
              "#d8576b"
             ],
             [
              0.6666666666666666,
              "#ed7953"
             ],
             [
              0.7777777777777778,
              "#fb9f3a"
             ],
             [
              0.8888888888888888,
              "#fdca26"
             ],
             [
              1,
              "#f0f921"
             ]
            ],
            "type": "heatmap"
           }
          ],
          "heatmapgl": [
           {
            "colorbar": {
             "outlinewidth": 0,
             "ticks": ""
            },
            "colorscale": [
             [
              0,
              "#0d0887"
             ],
             [
              0.1111111111111111,
              "#46039f"
             ],
             [
              0.2222222222222222,
              "#7201a8"
             ],
             [
              0.3333333333333333,
              "#9c179e"
             ],
             [
              0.4444444444444444,
              "#bd3786"
             ],
             [
              0.5555555555555556,
              "#d8576b"
             ],
             [
              0.6666666666666666,
              "#ed7953"
             ],
             [
              0.7777777777777778,
              "#fb9f3a"
             ],
             [
              0.8888888888888888,
              "#fdca26"
             ],
             [
              1,
              "#f0f921"
             ]
            ],
            "type": "heatmapgl"
           }
          ],
          "histogram": [
           {
            "marker": {
             "pattern": {
              "fillmode": "overlay",
              "size": 10,
              "solidity": 0.2
             }
            },
            "type": "histogram"
           }
          ],
          "histogram2d": [
           {
            "colorbar": {
             "outlinewidth": 0,
             "ticks": ""
            },
            "colorscale": [
             [
              0,
              "#0d0887"
             ],
             [
              0.1111111111111111,
              "#46039f"
             ],
             [
              0.2222222222222222,
              "#7201a8"
             ],
             [
              0.3333333333333333,
              "#9c179e"
             ],
             [
              0.4444444444444444,
              "#bd3786"
             ],
             [
              0.5555555555555556,
              "#d8576b"
             ],
             [
              0.6666666666666666,
              "#ed7953"
             ],
             [
              0.7777777777777778,
              "#fb9f3a"
             ],
             [
              0.8888888888888888,
              "#fdca26"
             ],
             [
              1,
              "#f0f921"
             ]
            ],
            "type": "histogram2d"
           }
          ],
          "histogram2dcontour": [
           {
            "colorbar": {
             "outlinewidth": 0,
             "ticks": ""
            },
            "colorscale": [
             [
              0,
              "#0d0887"
             ],
             [
              0.1111111111111111,
              "#46039f"
             ],
             [
              0.2222222222222222,
              "#7201a8"
             ],
             [
              0.3333333333333333,
              "#9c179e"
             ],
             [
              0.4444444444444444,
              "#bd3786"
             ],
             [
              0.5555555555555556,
              "#d8576b"
             ],
             [
              0.6666666666666666,
              "#ed7953"
             ],
             [
              0.7777777777777778,
              "#fb9f3a"
             ],
             [
              0.8888888888888888,
              "#fdca26"
             ],
             [
              1,
              "#f0f921"
             ]
            ],
            "type": "histogram2dcontour"
           }
          ],
          "mesh3d": [
           {
            "colorbar": {
             "outlinewidth": 0,
             "ticks": ""
            },
            "type": "mesh3d"
           }
          ],
          "parcoords": [
           {
            "line": {
             "colorbar": {
              "outlinewidth": 0,
              "ticks": ""
             }
            },
            "type": "parcoords"
           }
          ],
          "pie": [
           {
            "automargin": true,
            "type": "pie"
           }
          ],
          "scatter": [
           {
            "fillpattern": {
             "fillmode": "overlay",
             "size": 10,
             "solidity": 0.2
            },
            "type": "scatter"
           }
          ],
          "scatter3d": [
           {
            "line": {
             "colorbar": {
              "outlinewidth": 0,
              "ticks": ""
             }
            },
            "marker": {
             "colorbar": {
              "outlinewidth": 0,
              "ticks": ""
             }
            },
            "type": "scatter3d"
           }
          ],
          "scattercarpet": [
           {
            "marker": {
             "colorbar": {
              "outlinewidth": 0,
              "ticks": ""
             }
            },
            "type": "scattercarpet"
           }
          ],
          "scattergeo": [
           {
            "marker": {
             "colorbar": {
              "outlinewidth": 0,
              "ticks": ""
             }
            },
            "type": "scattergeo"
           }
          ],
          "scattergl": [
           {
            "marker": {
             "colorbar": {
              "outlinewidth": 0,
              "ticks": ""
             }
            },
            "type": "scattergl"
           }
          ],
          "scattermapbox": [
           {
            "marker": {
             "colorbar": {
              "outlinewidth": 0,
              "ticks": ""
             }
            },
            "type": "scattermapbox"
           }
          ],
          "scatterpolar": [
           {
            "marker": {
             "colorbar": {
              "outlinewidth": 0,
              "ticks": ""
             }
            },
            "type": "scatterpolar"
           }
          ],
          "scatterpolargl": [
           {
            "marker": {
             "colorbar": {
              "outlinewidth": 0,
              "ticks": ""
             }
            },
            "type": "scatterpolargl"
           }
          ],
          "scatterternary": [
           {
            "marker": {
             "colorbar": {
              "outlinewidth": 0,
              "ticks": ""
             }
            },
            "type": "scatterternary"
           }
          ],
          "surface": [
           {
            "colorbar": {
             "outlinewidth": 0,
             "ticks": ""
            },
            "colorscale": [
             [
              0,
              "#0d0887"
             ],
             [
              0.1111111111111111,
              "#46039f"
             ],
             [
              0.2222222222222222,
              "#7201a8"
             ],
             [
              0.3333333333333333,
              "#9c179e"
             ],
             [
              0.4444444444444444,
              "#bd3786"
             ],
             [
              0.5555555555555556,
              "#d8576b"
             ],
             [
              0.6666666666666666,
              "#ed7953"
             ],
             [
              0.7777777777777778,
              "#fb9f3a"
             ],
             [
              0.8888888888888888,
              "#fdca26"
             ],
             [
              1,
              "#f0f921"
             ]
            ],
            "type": "surface"
           }
          ],
          "table": [
           {
            "cells": {
             "fill": {
              "color": "#EBF0F8"
             },
             "line": {
              "color": "white"
             }
            },
            "header": {
             "fill": {
              "color": "#C8D4E3"
             },
             "line": {
              "color": "white"
             }
            },
            "type": "table"
           }
          ]
         },
         "layout": {
          "annotationdefaults": {
           "arrowcolor": "#2a3f5f",
           "arrowhead": 0,
           "arrowwidth": 1
          },
          "autotypenumbers": "strict",
          "coloraxis": {
           "colorbar": {
            "outlinewidth": 0,
            "ticks": ""
           }
          },
          "colorscale": {
           "diverging": [
            [
             0,
             "#8e0152"
            ],
            [
             0.1,
             "#c51b7d"
            ],
            [
             0.2,
             "#de77ae"
            ],
            [
             0.3,
             "#f1b6da"
            ],
            [
             0.4,
             "#fde0ef"
            ],
            [
             0.5,
             "#f7f7f7"
            ],
            [
             0.6,
             "#e6f5d0"
            ],
            [
             0.7,
             "#b8e186"
            ],
            [
             0.8,
             "#7fbc41"
            ],
            [
             0.9,
             "#4d9221"
            ],
            [
             1,
             "#276419"
            ]
           ],
           "sequential": [
            [
             0,
             "#0d0887"
            ],
            [
             0.1111111111111111,
             "#46039f"
            ],
            [
             0.2222222222222222,
             "#7201a8"
            ],
            [
             0.3333333333333333,
             "#9c179e"
            ],
            [
             0.4444444444444444,
             "#bd3786"
            ],
            [
             0.5555555555555556,
             "#d8576b"
            ],
            [
             0.6666666666666666,
             "#ed7953"
            ],
            [
             0.7777777777777778,
             "#fb9f3a"
            ],
            [
             0.8888888888888888,
             "#fdca26"
            ],
            [
             1,
             "#f0f921"
            ]
           ],
           "sequentialminus": [
            [
             0,
             "#0d0887"
            ],
            [
             0.1111111111111111,
             "#46039f"
            ],
            [
             0.2222222222222222,
             "#7201a8"
            ],
            [
             0.3333333333333333,
             "#9c179e"
            ],
            [
             0.4444444444444444,
             "#bd3786"
            ],
            [
             0.5555555555555556,
             "#d8576b"
            ],
            [
             0.6666666666666666,
             "#ed7953"
            ],
            [
             0.7777777777777778,
             "#fb9f3a"
            ],
            [
             0.8888888888888888,
             "#fdca26"
            ],
            [
             1,
             "#f0f921"
            ]
           ]
          },
          "colorway": [
           "#636efa",
           "#EF553B",
           "#00cc96",
           "#ab63fa",
           "#FFA15A",
           "#19d3f3",
           "#FF6692",
           "#B6E880",
           "#FF97FF",
           "#FECB52"
          ],
          "font": {
           "color": "#2a3f5f"
          },
          "geo": {
           "bgcolor": "white",
           "lakecolor": "white",
           "landcolor": "#E5ECF6",
           "showlakes": true,
           "showland": true,
           "subunitcolor": "white"
          },
          "hoverlabel": {
           "align": "left"
          },
          "hovermode": "closest",
          "mapbox": {
           "style": "light"
          },
          "paper_bgcolor": "white",
          "plot_bgcolor": "#E5ECF6",
          "polar": {
           "angularaxis": {
            "gridcolor": "white",
            "linecolor": "white",
            "ticks": ""
           },
           "bgcolor": "#E5ECF6",
           "radialaxis": {
            "gridcolor": "white",
            "linecolor": "white",
            "ticks": ""
           }
          },
          "scene": {
           "xaxis": {
            "backgroundcolor": "#E5ECF6",
            "gridcolor": "white",
            "gridwidth": 2,
            "linecolor": "white",
            "showbackground": true,
            "ticks": "",
            "zerolinecolor": "white"
           },
           "yaxis": {
            "backgroundcolor": "#E5ECF6",
            "gridcolor": "white",
            "gridwidth": 2,
            "linecolor": "white",
            "showbackground": true,
            "ticks": "",
            "zerolinecolor": "white"
           },
           "zaxis": {
            "backgroundcolor": "#E5ECF6",
            "gridcolor": "white",
            "gridwidth": 2,
            "linecolor": "white",
            "showbackground": true,
            "ticks": "",
            "zerolinecolor": "white"
           }
          },
          "shapedefaults": {
           "line": {
            "color": "#2a3f5f"
           }
          },
          "ternary": {
           "aaxis": {
            "gridcolor": "white",
            "linecolor": "white",
            "ticks": ""
           },
           "baxis": {
            "gridcolor": "white",
            "linecolor": "white",
            "ticks": ""
           },
           "bgcolor": "#E5ECF6",
           "caxis": {
            "gridcolor": "white",
            "linecolor": "white",
            "ticks": ""
           }
          },
          "title": {
           "x": 0.05
          },
          "xaxis": {
           "automargin": true,
           "gridcolor": "white",
           "linecolor": "white",
           "ticks": "",
           "title": {
            "standoff": 15
           },
           "zerolinecolor": "white",
           "zerolinewidth": 2
          },
          "yaxis": {
           "automargin": true,
           "gridcolor": "white",
           "linecolor": "white",
           "ticks": "",
           "title": {
            "standoff": 15
           },
           "zerolinecolor": "white",
           "zerolinewidth": 2
          }
         }
        },
        "xaxis": {
         "rangeslider": {
          "visible": false
         }
        }
       }
      }
     },
     "metadata": {},
     "output_type": "display_data"
    }
   ],
   "source": [
    "fig = go.Figure(data=[go.Candlestick(x=candlestick_data['date'],\n",
    "                open=candlestick_data['Price']['first'],\n",
    "                high=candlestick_data['Price']['max'],\n",
    "                low=candlestick_data['Price']['min'],\n",
    "                close=candlestick_data['Price']['last'])\n",
    "                ])\n",
    "\n",
    "fig.update_layout(xaxis_rangeslider_visible=False)\n",
    "fig.show()"
   ]
  }
 ],
 "metadata": {
  "kernelspec": {
   "display_name": "Python 3",
   "language": "python",
   "name": "python3"
  },
  "language_info": {
   "codemirror_mode": {
    "name": "ipython",
    "version": 3
   },
   "file_extension": ".py",
   "mimetype": "text/x-python",
   "name": "python",
   "nbconvert_exporter": "python",
   "pygments_lexer": "ipython3",
   "version": "3.10.10"
  },
  "orig_nbformat": 4
 },
 "nbformat": 4,
 "nbformat_minor": 2
}
